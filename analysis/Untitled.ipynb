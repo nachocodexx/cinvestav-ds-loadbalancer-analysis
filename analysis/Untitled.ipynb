{
 "cells": [
  {
   "cell_type": "code",
   "execution_count": 75,
   "id": "sorted-xerox",
   "metadata": {},
   "outputs": [],
   "source": [
    "import numpy as np\n",
    "import pandas as pd\n",
    "import matplotlib.pyplot as plt\n",
    "import seaborn as sns\n",
    "def toSec(x):\n",
    "    return x/1000\n",
    "def toSecDf(df):\n",
    "    df['SERVICE_TIME']       = df['SERVICE_TIME'].apply(toSec)\n",
    "    df['AVG_DELAY_QUEUE']    = df['AVG_DELAY_QUEUE'].apply(toSec)\n",
    "    df['AVG_INTERARRIVAL']   = df['AVG_INTERARRIVAL'].apply(toSec)\n",
    "    df['INTER_ARRIVAL']   = df['INTER_ARRIVAL'].apply(toSec)\n",
    "    df['SERVER_UTILIZATION'] = df['SERVER_UTILIZATION']*100\n",
    "    return df\n",
    "def basicPlot(df):\n",
    "    fig, axs = plt.subplots(2,figsize=(5,7))\n",
    "    pdf = pd.pivot_table(dff,index=['WORKERS'])\n",
    "    X = pdf[pdf.columns[1]]\n",
    "    sns.barplot(x=X.index,y=X.values,ax=axs[0])\n",
    "    axs[0].set_ylabel(\"SERVER UTILIZATION(%)\")\n",
    "    axs[0].set_xlabel(\"BINS\")\n",
    "    X = pdf[pdf.columns[0]]\n",
    "    sns.barplot(x=X.index,y=X.values,ax=axs[1])\n",
    "    axs[1].set_ylabel(\"AVG. INTERARRIVAL\")\n",
    "    axs[1].set_xlabel(\"BINS\")\n",
    "    plt.show()\n"
   ]
  },
  {
   "cell_type": "code",
   "execution_count": 187,
   "id": "governmental-logic",
   "metadata": {},
   "outputs": [
    {
     "data": {
      "text/html": [
       "<div>\n",
       "<style scoped>\n",
       "    .dataframe tbody tr th:only-of-type {\n",
       "        vertical-align: middle;\n",
       "    }\n",
       "\n",
       "    .dataframe tbody tr th {\n",
       "        vertical-align: top;\n",
       "    }\n",
       "\n",
       "    .dataframe thead th {\n",
       "        text-align: right;\n",
       "    }\n",
       "</style>\n",
       "<table border=\"1\" class=\"dataframe\">\n",
       "  <thead>\n",
       "    <tr style=\"text-align: right;\">\n",
       "      <th></th>\n",
       "      <th>WORKER_NAME</th>\n",
       "      <th>NUM_REQUESTS</th>\n",
       "      <th>WORKERS</th>\n",
       "      <th>LOAD_BALANCER</th>\n",
       "      <th>AVG_DELAY_QUEUE</th>\n",
       "      <th>NUMBER_QUEUE</th>\n",
       "      <th>SERVER_UTILIZATION</th>\n",
       "      <th>SIMULATION_TIME</th>\n",
       "      <th>SAMPLES</th>\n",
       "      <th>INTER_ARRIVAL</th>\n",
       "      <th>DISTRIBUTION</th>\n",
       "      <th>SERVICE_TIME</th>\n",
       "      <th>AVG_INTERARRIVAL</th>\n",
       "      <th>NUM_DELAYS</th>\n",
       "      <th>TEST_ID</th>\n",
       "    </tr>\n",
       "  </thead>\n",
       "  <tbody>\n",
       "    <tr>\n",
       "      <th>0</th>\n",
       "      <td>worker-0</td>\n",
       "      <td>1022</td>\n",
       "      <td>1</td>\n",
       "      <td>ROUND-ROBIN</td>\n",
       "      <td>65.627758</td>\n",
       "      <td>47.013687</td>\n",
       "      <td>99.9682</td>\n",
       "      <td>1475444.000</td>\n",
       "      <td>1000</td>\n",
       "      <td>3.0</td>\n",
       "      <td>NORMAL</td>\n",
       "      <td>1.45</td>\n",
       "      <td>1.406728</td>\n",
       "      <td>1022</td>\n",
       "      <td>0</td>\n",
       "    </tr>\n",
       "    <tr>\n",
       "      <th>1</th>\n",
       "      <td>worker-0</td>\n",
       "      <td>521</td>\n",
       "      <td>2</td>\n",
       "      <td>ROUND-ROBIN</td>\n",
       "      <td>1.639722</td>\n",
       "      <td>0.640194</td>\n",
       "      <td>57.1355</td>\n",
       "      <td>1334431.125</td>\n",
       "      <td>1000</td>\n",
       "      <td>3.0</td>\n",
       "      <td>NORMAL</td>\n",
       "      <td>1.45</td>\n",
       "      <td>2.783207</td>\n",
       "      <td>521</td>\n",
       "      <td>1</td>\n",
       "    </tr>\n",
       "    <tr>\n",
       "      <th>2</th>\n",
       "      <td>worker-1</td>\n",
       "      <td>520</td>\n",
       "      <td>2</td>\n",
       "      <td>ROUND-ROBIN</td>\n",
       "      <td>1.643905</td>\n",
       "      <td>0.640945</td>\n",
       "      <td>57.1446</td>\n",
       "      <td>1333703.000</td>\n",
       "      <td>1000</td>\n",
       "      <td>3.0</td>\n",
       "      <td>NORMAL</td>\n",
       "      <td>1.45</td>\n",
       "      <td>2.782419</td>\n",
       "      <td>520</td>\n",
       "      <td>1</td>\n",
       "    </tr>\n",
       "    <tr>\n",
       "      <th>3</th>\n",
       "      <td>worker-0</td>\n",
       "      <td>345</td>\n",
       "      <td>3</td>\n",
       "      <td>ROUND-ROBIN</td>\n",
       "      <td>0.760091</td>\n",
       "      <td>0.203492</td>\n",
       "      <td>37.2158</td>\n",
       "      <td>1288659.875</td>\n",
       "      <td>1000</td>\n",
       "      <td>3.0</td>\n",
       "      <td>NORMAL</td>\n",
       "      <td>1.45</td>\n",
       "      <td>4.405243</td>\n",
       "      <td>345</td>\n",
       "      <td>2</td>\n",
       "    </tr>\n",
       "    <tr>\n",
       "      <th>4</th>\n",
       "      <td>worker-1</td>\n",
       "      <td>344</td>\n",
       "      <td>3</td>\n",
       "      <td>ROUND-ROBIN</td>\n",
       "      <td>0.762867</td>\n",
       "      <td>0.205406</td>\n",
       "      <td>37.3821</td>\n",
       "      <td>1277594.875</td>\n",
       "      <td>1000</td>\n",
       "      <td>3.0</td>\n",
       "      <td>NORMAL</td>\n",
       "      <td>1.45</td>\n",
       "      <td>4.402616</td>\n",
       "      <td>344</td>\n",
       "      <td>2</td>\n",
       "    </tr>\n",
       "  </tbody>\n",
       "</table>\n",
       "</div>"
      ],
      "text/plain": [
       "  WORKER_NAME  NUM_REQUESTS  WORKERS LOAD_BALANCER  AVG_DELAY_QUEUE  \\\n",
       "0    worker-0          1022        1   ROUND-ROBIN        65.627758   \n",
       "1    worker-0           521        2   ROUND-ROBIN         1.639722   \n",
       "2    worker-1           520        2   ROUND-ROBIN         1.643905   \n",
       "3    worker-0           345        3   ROUND-ROBIN         0.760091   \n",
       "4    worker-1           344        3   ROUND-ROBIN         0.762867   \n",
       "\n",
       "   NUMBER_QUEUE  SERVER_UTILIZATION  SIMULATION_TIME  SAMPLES  INTER_ARRIVAL  \\\n",
       "0     47.013687             99.9682      1475444.000     1000            3.0   \n",
       "1      0.640194             57.1355      1334431.125     1000            3.0   \n",
       "2      0.640945             57.1446      1333703.000     1000            3.0   \n",
       "3      0.203492             37.2158      1288659.875     1000            3.0   \n",
       "4      0.205406             37.3821      1277594.875     1000            3.0   \n",
       "\n",
       "  DISTRIBUTION  SERVICE_TIME  AVG_INTERARRIVAL  NUM_DELAYS  TEST_ID  \n",
       "0       NORMAL          1.45          1.406728        1022        0  \n",
       "1       NORMAL          1.45          2.783207         521        1  \n",
       "2       NORMAL          1.45          2.782419         520        1  \n",
       "3       NORMAL          1.45          4.405243         345        2  \n",
       "4       NORMAL          1.45          4.402616         344        2  "
      ]
     },
     "execution_count": 187,
     "metadata": {},
     "output_type": "execute_result"
    }
   ],
   "source": [
    "df = pd.read_csv('../results/data_01.csv')\n",
    "df = toSecDf(df)\n",
    "df.drop(['STD','MEAN','READ_RATIO','SIZE','SAS_SIZE','CONCURRENCY'], axis=1, inplace=True)\n",
    "df.head()"
   ]
  },
  {
   "cell_type": "code",
   "execution_count": 45,
   "id": "residential-privacy",
   "metadata": {},
   "outputs": [],
   "source": [
    "round_robin = df.loc[df['LOAD_BALANCER']=='ROUND-ROBIN']\n",
    "random      = df.loc[df['LOAD_BALANCER']=='RANDOM']\n",
    "two_choices = df.loc[df['LOAD_BALANCER']=='TWO-CHOICES']"
   ]
  },
  {
   "cell_type": "markdown",
   "id": "suburban-messenger",
   "metadata": {},
   "source": [
    "# ROUND ROBIN\n",
    "Grafica #1: Se observa como la utilizacion del servidor disminuye cuando se añaden mas \"bins\"\n",
    "\n",
    "Grafica #2: Se observa como el tiempo medio entre las peticiones aumenta cuando se añaden mas \"bins\""
   ]
  },
  {
   "cell_type": "code",
   "execution_count": 76,
   "id": "material-seminar",
   "metadata": {},
   "outputs": [
    {
     "data": {
      "image/png": "[encoded data removed]",
      "text/plain": [
       "<Figure size 360x504 with 2 Axes>"
      ]
     },
     "metadata": {
      "needs_background": "light"
     },
     "output_type": "display_data"
    }
   ],
   "source": [
    "basicPlot(round_robin)"
   ]
  },
  {
   "cell_type": "code",
   "execution_count": 208,
   "id": "meaningful-grocery",
   "metadata": {},
   "outputs": [
    {
     "data": {
      "text/plain": [
       "<AxesSubplot:>"
      ]
     },
     "execution_count": 208,
     "metadata": {},
     "output_type": "execute_result"
    },
    {
     "data": {
      "image/png": "[encoded data removed]",
      "text/plain": [
       "<Figure size 432x288 with 1 Axes>"
      ]
     },
     "metadata": {
      "needs_background": "light"
     },
     "output_type": "display_data"
    }
   ],
   "source": [
    "round_robin['AVG_DELAY_QUEUE'].plot()"
   ]
  },
  {
   "cell_type": "markdown",
   "id": "collaborative-bracket",
   "metadata": {},
   "source": [
    "# RANDOM\n",
    "Grafica #1: Se observa como la utilizacion del servidor disminuye cuando se añaden mas \"bins\"\n",
    "\n",
    "Grafica #2: Se observa como el tiempo medio entre las peticiones aumenta cuando se añaden mas \"bins\""
   ]
  },
  {
   "cell_type": "code",
   "execution_count": 177,
   "id": "synthetic-scholarship",
   "metadata": {},
   "outputs": [
    {
     "data": {
      "image/png": "[encoded data removed]",
      "text/plain": [
       "<Figure size 360x504 with 2 Axes>"
      ]
     },
     "metadata": {
      "needs_background": "light"
     },
     "output_type": "display_data"
    }
   ],
   "source": [
    "basicPlot(random)"
   ]
  },
  {
   "cell_type": "code",
   "execution_count": 206,
   "id": "private-onion",
   "metadata": {},
   "outputs": [
    {
     "data": {
      "text/plain": [
       "<AxesSubplot:>"
      ]
     },
     "execution_count": 206,
     "metadata": {},
     "output_type": "execute_result"
    },
    {
     "data": {
      "image/png": "[encoded data removed]",
      "text/plain": [
       "<Figure size 432x288 with 1 Axes>"
      ]
     },
     "metadata": {
      "needs_background": "light"
     },
     "output_type": "display_data"
    }
   ],
   "source": [
    "random['AVG_DELAY_QUEUE'].plot()"
   ]
  },
  {
   "cell_type": "markdown",
   "id": "gross-listing",
   "metadata": {},
   "source": [
    "# TWO CHOICES\n",
    "Grafica #1: Se observa como la utilizacion del servidor disminuye cuando se añaden mas \"bins\"\n",
    "\n",
    "Grafica #2: Se observa como el tiempo medio entre las peticiones aumenta cuando se añaden mas \"bins\""
   ]
  },
  {
   "cell_type": "code",
   "execution_count": 78,
   "id": "nonprofit-cursor",
   "metadata": {},
   "outputs": [
    {
     "data": {
      "image/png": "[encoded data removed]",
      "text/plain": [
       "<Figure size 360x504 with 2 Axes>"
      ]
     },
     "metadata": {
      "needs_background": "light"
     },
     "output_type": "display_data"
    }
   ],
   "source": [
    "basicPlot(two_choices)"
   ]
  },
  {
   "cell_type": "code",
   "execution_count": 207,
   "id": "correct-programming",
   "metadata": {},
   "outputs": [
    {
     "data": {
      "text/plain": [
       "<AxesSubplot:>"
      ]
     },
     "execution_count": 207,
     "metadata": {},
     "output_type": "execute_result"
    },
    {
     "data": {
      "image/png": "[encoded data removed]",
      "text/plain": [
       "<Figure size 432x288 with 1 Axes>"
      ]
     },
     "metadata": {
      "needs_background": "light"
     },
     "output_type": "display_data"
    }
   ],
   "source": [
    "two_choices['AVG_DELAY_QUEUE'].plot()"
   ]
  },
  {
   "cell_type": "markdown",
   "id": "massive-values",
   "metadata": {},
   "source": []
  },
  {
   "cell_type": "code",
   "execution_count": 179,
   "id": "wrapped-generation",
   "metadata": {},
   "outputs": [],
   "source": [
    "def plott(*args,**kwargs):\n",
    "    NR =kwargs.get('y','NUM_REQUESTS')\n",
    "    I =kwargs.get('bins',4)\n",
    "    RR = round_robin[round_robin['TEST_ID']==I][NR].to_numpy()\n",
    "    R  = random[random['TEST_ID']==I][NR].to_numpy()\n",
    "    TC =two_choices[two_choices['TEST_ID']==I][NR].to_numpy()\n",
    "    test = pd.DataFrame({'ROUND ROBIN':RR,'TWO CHOICES':TC,'RANDOM':R})\n",
    "    test.index=(range(1,I+2))\n",
    "    fig,ax = plt.subplots(1,figsize=(10,7))\n",
    "    xLabel = kwargs.get('xLabel','QUEUE SERVER')\n",
    "    yLabel = kwargs.get('yLabel','NUMBER OF REQUESTS')\n",
    "    ax.set_xlabel(xLabel)\n",
    "    ax.set_ylabel(yLabel)\n",
    "    test.plot(kind='bar',ax=ax)\n",
    "    ax.legend(loc=\"upper right\",bbox_to_anchor=(1.2, 1))\n",
    "\n",
    "# plott()"
   ]
  },
  {
   "cell_type": "markdown",
   "id": "asian-pillow",
   "metadata": {},
   "source": [
    "# Grafica #1"
   ]
  },
  {
   "cell_type": "code",
   "execution_count": 182,
   "id": "transsexual-shell",
   "metadata": {},
   "outputs": [
    {
     "data": {
      "image/png": "[encoded data removed]",
      "text/plain": [
       "<Figure size 720x504 with 1 Axes>"
      ]
     },
     "metadata": {
      "needs_background": "light"
     },
     "output_type": "display_data"
    }
   ],
   "source": [
    "plott(xLabel=\"BINS\")"
   ]
  },
  {
   "cell_type": "markdown",
   "id": "blind-lawsuit",
   "metadata": {},
   "source": [
    "# Grafica #2"
   ]
  },
  {
   "cell_type": "code",
   "execution_count": 209,
   "id": "analyzed-circle",
   "metadata": {},
   "outputs": [
    {
     "data": {
      "image/png": "[encoded data removed]",
      "text/plain": [
       "<Figure size 720x504 with 1 Axes>"
      ]
     },
     "metadata": {
      "needs_background": "light"
     },
     "output_type": "display_data"
    }
   ],
   "source": [
    "plott(y=\"SERVER_UTILIZATION\",xLabel=\"BINS\",yLabel=\"SERVER UTILIZATION(%)\",bins=4)"
   ]
  },
  {
   "cell_type": "markdown",
   "id": "psychological-intelligence",
   "metadata": {},
   "source": [
    "# Test #1"
   ]
  },
  {
   "cell_type": "code",
   "execution_count": 34,
   "id": "coordinated-heath",
   "metadata": {},
   "outputs": [],
   "source": [
    "df = toSecDf(pd.read_csv('../results/data.csv'))\n",
    "dff =df[['SIMULATION_TIME','SERVER_UTILIZATION','AVG_INTERARRIVAL','SERVICE_TIME','TEST_ID','WORKERS']] "
   ]
  },
  {
   "cell_type": "code",
   "execution_count": 176,
   "id": "lesbian-stick",
   "metadata": {},
   "outputs": [],
   "source": [
    "pdf = pd.pivot_table(dff,index=['WORKERS'])\n",
    "# pdf"
   ]
  }
 ],
 "metadata": {
  "kernelspec": {
   "display_name": "Python 3",
   "language": "python",
   "name": "python3"
  },
  "language_info": {
   "codemirror_mode": {
    "name": "ipython",
    "version": 3
   },
   "file_extension": ".py",
   "mimetype": "text/x-python",
   "name": "python",
   "nbconvert_exporter": "python",
   "pygments_lexer": "ipython3",
   "version": "3.8.5"
  }
 },
 "nbformat": 4,
 "nbformat_minor": 5
}
